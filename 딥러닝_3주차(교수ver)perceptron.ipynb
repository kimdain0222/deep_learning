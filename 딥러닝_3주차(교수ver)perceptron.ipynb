{
  "cells": [
    {
      "cell_type": "code",
      "execution_count": 16,
      "id": "07c70922-1ac6-43c3-a6bd-8fa867933a4a",
      "metadata": {
        "id": "07c70922-1ac6-43c3-a6bd-8fa867933a4a"
      },
      "outputs": [],
      "source": [
        "import numpy as np"
      ]
    },
    {
      "cell_type": "code",
      "execution_count": 17,
      "id": "e274aceb-4d6a-416a-bc86-7222205afdf4",
      "metadata": {
        "id": "e274aceb-4d6a-416a-bc86-7222205afdf4",
        "outputId": "4593c06b-3930-4392-a7cb-b4f043cf217c",
        "colab": {
          "base_uri": "https://localhost:8080/"
        }
      },
      "outputs": [
        {
          "output_type": "stream",
          "name": "stdout",
          "text": [
            "(4, 2)\n"
          ]
        }
      ],
      "source": [
        "X = np.array([[0,0],\n",
        "              [0,1],\n",
        "              [1,0],\n",
        "              [1,1]])\n",
        "print(X.shape)\n",
        "\n",
        "#(행의 수, 열의 수)"
      ]
    },
    {
      "cell_type": "markdown",
      "id": "69f2af23-188d-4715-8af0-aa67766fb549",
      "metadata": {
        "id": "69f2af23-188d-4715-8af0-aa67766fb549"
      },
      "source": [
        "- `X.shape[0]`: 데이터 샘플의 수_ 행의 개수\n",
        "\n",
        "\n",
        "- `X.shape[1]`: 특징의 수 (입력 노드의 수)_ 열의 개수"
      ]
    },
    {
      "cell_type": "markdown",
      "id": "61a9a359-75f5-4176-901a-b71aba266e0e",
      "metadata": {
        "id": "61a9a359-75f5-4176-901a-b71aba266e0e"
      },
      "source": [
        "- 인자가 **(입력, 가중치, 편향)** 이며, **0** 또는 **1**을 반환하는  `perceptron` 함수 정의\n",
        "- **입력**은 `2d array` 타입으로, **데이터 샘플의 수만큼 값을 반환**함"
      ]
    },
    {
      "cell_type": "markdown",
      "id": "20bb6241-1f52-4634-9cf3-833d007d7c54",
      "metadata": {
        "id": "20bb6241-1f52-4634-9cf3-833d007d7c54"
      },
      "source": [
        "- `A.dot(B)` = 행렬 곱셈\n",
        "> - `A.shape[1]`과 `B.shape[0]`은 반드시 일치해야 함_\n",
        "A의 열 수 == B의 행 수 여야만 곱셈 가능하다는 말\n",
        "> - `A.dot(B).shape`은 `(A.shape[0], B.shape[1])` </br>\n",
        "단, `B`가 1d array인 경우, 결과는 `(A.shape[0], )`임\n",
        "\n",
        "- `X.shape`=`(4,2)`, `w.shape`=`(2,)`일 때,\n",
        "> - `X.shape[1] = 2`, `w.shape[0] = 2`로 일치함\n",
        "> - `X.dot(A).shape` = `(4,)`\n",
        "> - `X.shape[0] = 4`는 데이터샘플 수를 의미하며, 입력이 4개의 샘플이므로, 각 샘플에 대한 결과값을 반환하므로 출력도 4개임\n",
        "\n",
        "- 2D 배열 × 1D 배열\n",
        "\n",
        "X = np.array([[0,0], [0,1], [1,0], [1,1]])  # shape: (4, 2)\n",
        "\n",
        "w = np.array([1, 2])                         # shape: (2,)\n",
        "\n",
        "print(\"X.dot(w) shape:\", X.dot(w).shape)     # (4,)\n",
        "\n",
        "결과: [0, 2, 1, 3]\n",
        "\n",
        "- `X`는 `ndarray`, `b`는 `dim`이 0인 상수 또는 변수일 때,(ex> `b=1`), </br>\n",
        "`X + b`를 수행하면, `X`의 모든 요소에 대해 `b`가 더해진다."
      ]
    },
    {
      "cell_type": "code",
      "execution_count": 18,
      "id": "22e116b4-7f31-4d59-9078-ceacd649b91d",
      "metadata": {
        "id": "22e116b4-7f31-4d59-9078-ceacd649b91d",
        "outputId": "ea6c3eb3-4cd0-45bd-ee76-ab08aabe9947",
        "colab": {
          "base_uri": "https://localhost:8080/"
        }
      },
      "outputs": [
        {
          "output_type": "stream",
          "name": "stdout",
          "text": [
            "[[0 0]\n",
            " [0 1]\n",
            " [1 0]\n",
            " [1 1]]\n",
            "[0 2 1 3]\n",
            "[-1  1  0  2]\n"
          ]
        }
      ],
      "source": [
        "print(X)\n",
        "w = np.array([1,2])\n",
        "print(X.dot(w))\n",
        "b = -1 #_ 여기서 b는 스칼라(숫자 하나)\n",
        "print(X.dot(w)+b)"
      ]
    },
    {
      "cell_type": "code",
      "source": [
        "#+) 위의 코드 해설\n",
        "\n",
        "b = -1  # 이것이 스칼라입니다!\n",
        "\n",
        "# 스칼라 b를 벡터에 더하기\n",
        "vector = np.array([0, 2, 1, 3])  # X.dot(w) 결과\n",
        "scalar = -1\n",
        "\n",
        "result = vector + scalar\n",
        "print(result)  # [-1, 1, 0, 2]"
      ],
      "metadata": {
        "colab": {
          "base_uri": "https://localhost:8080/"
        },
        "id": "Jm0rMHF9-fQ7",
        "outputId": "5676fcd2-69f8-455e-9af2-aca22b45d160"
      },
      "id": "Jm0rMHF9-fQ7",
      "execution_count": 19,
      "outputs": [
        {
          "output_type": "stream",
          "name": "stdout",
          "text": [
            "[-1  1  0  2]\n"
          ]
        }
      ]
    },
    {
      "cell_type": "markdown",
      "id": "bc8b4759-52ff-44ef-8e81-c00954db8d5e",
      "metadata": {
        "id": "bc8b4759-52ff-44ef-8e81-c00954db8d5e"
      },
      "source": [
        "- `if X.dot(w)+b > 0:` 는 `X.dot(w)+b`가 복수의 요소를 포함하는 `ndarray`이므로 `True/False`를 하나로 정의할 수 없음 (오류발생)\n",
        "- `return X.dot(w)+b > 0`: `X.dot(w)+b`의 각 요소에 대해 `True/False`를 반환\n",
        "- 결과를 `True/False`가 아닌 `int` 타입의 수로 반환을 원하는 경우, `astype`으로 타입을 강제 변환함"
      ]
    },
    {
      "cell_type": "markdown",
      "id": "a8bc6e1d-a54e-405c-abd0-2a0b8340a65d",
      "metadata": {
        "id": "a8bc6e1d-a54e-405c-abd0-2a0b8340a65d"
      },
      "source": [
        "## 1. perceptron 정의"
      ]
    },
    {
      "cell_type": "code",
      "execution_count": 20,
      "id": "9e711aa8-799a-4775-b944-9ea2eedb6a89",
      "metadata": {
        "id": "9e711aa8-799a-4775-b944-9ea2eedb6a89"
      },
      "outputs": [],
      "source": [
        "def perceptron(X,w,b):\n",
        "    # return X.dot(w)+b > 0\n",
        "    return (X.dot(w)+b > 0).astype('int')\n",
        "\n",
        "    #0보다 큰지 확인 후 0/1로 변환:\n",
        "   #[-1  1  0  2] > 0 = [0 1 0 1]"
      ]
    },
    {
      "cell_type": "code",
      "execution_count": 21,
      "id": "13c2e391-45d8-424d-800c-8ebdbd4bd8df",
      "metadata": {
        "id": "13c2e391-45d8-424d-800c-8ebdbd4bd8df",
        "outputId": "70eec13f-d463-426c-8345-61388ca413a6",
        "colab": {
          "base_uri": "https://localhost:8080/"
        }
      },
      "outputs": [
        {
          "output_type": "execute_result",
          "data": {
            "text/plain": [
              "array([0, 1, 0, 1])"
            ]
          },
          "metadata": {},
          "execution_count": 21
        }
      ],
      "source": [
        "perceptron(X,w,b)"
      ]
    },
    {
      "cell_type": "markdown",
      "id": "280ab80a-927c-4a37-a811-aaead633edff",
      "metadata": {
        "id": "280ab80a-927c-4a37-a811-aaead633edff"
      },
      "source": [
        "## 2. AND, NAND, OR 정의"
      ]
    },
    {
      "cell_type": "markdown",
      "id": "60a61396-4d76-41f3-addd-651828fe5d0f",
      "metadata": {
        "id": "60a61396-4d76-41f3-addd-651828fe5d0f"
      },
      "source": [
        "### (1) AND 함수 정의_ \"둘 다 참이어야 참\" 두 입력이 모두 1일 때만 출력이 1\n",
        "- `w = [1.5,1]`, `b = -2`"
      ]
    },
    {
      "cell_type": "code",
      "execution_count": 31,
      "id": "1ae73a70-609b-4cbd-a48c-bec19e4a6de4",
      "metadata": {
        "id": "1ae73a70-609b-4cbd-a48c-bec19e4a6de4"
      },
      "outputs": [],
      "source": [
        "def AND(input):\n",
        "    w = np.array([1.5,1])  #가중치\n",
        "    b = -2  #편향\n",
        "    return perceptron(input,w,b)\n",
        "\n",
        "    print(AND(X))"
      ]
    },
    {
      "cell_type": "code",
      "source": [
        "#   print(AND(X))의 출력값 = (0,0,0,1)\n",
        "\n",
        "#AND 게이트:\n",
        "#방정식: 1.5*x1 + 1*x2 - 2 = 0\n",
        "#1.5*x1 + x2 = 2 선 위에 있을 때만 1\n",
        "\n",
        "#입력: (0,0) → 0×1.5 + 0×1 + (-2) = -2 → 0 (False)\n",
        "#입력: (0,1) → 0×1.5 + 1×1 + (-2) = -1 → 0 (False)\n",
        "#입력: (1,0) → 1×1.5 + 0×1 + (-2) = -0.5 → 0 (False)\n",
        "#입력: (1,1) → 1×1.5 + 1×1 + (-2) = 0.5 → 1 (True)"
      ],
      "metadata": {
        "id": "vEu0SNqzC03y"
      },
      "id": "vEu0SNqzC03y",
      "execution_count": null,
      "outputs": []
    },
    {
      "cell_type": "markdown",
      "id": "2ec4d680-ea6c-49a7-ac95-8a1e6f661497",
      "metadata": {
        "id": "2ec4d680-ea6c-49a7-ac95-8a1e6f661497"
      },
      "source": [
        "### (2) NAND 함수 정의_ AND의 정반대 결과 \"둘 다 참이면 거짓\"\n",
        "- `w = [-2,-2]`, `b = 3`"
      ]
    },
    {
      "cell_type": "code",
      "execution_count": 23,
      "id": "a78265cf-5465-4caf-be62-debc928f5618",
      "metadata": {
        "id": "a78265cf-5465-4caf-be62-debc928f5618"
      },
      "outputs": [],
      "source": [
        "def NAND(input):\n",
        "    w = np.array([-2,-2]) # 가중치 (음수!)\n",
        "    b = 3   # 편향 (양수!)\n",
        "    return perceptron(input,w,b)"
      ]
    },
    {
      "cell_type": "code",
      "source": [
        "# print(NAND)의 출력값 = (1,1,1,0)\n",
        "\n",
        "#NAND 게이트:\n",
        "#방정식: -2*x1 - 2*x2 + 3 = 0\n",
        "#-2*x1 - 2*x2 = -3 선 위에 있을 때 1\n",
        "\n",
        "#입력: (0,0) → 0×(-2) + 0×(-2) + 3 = 3 → 1 (True)\n",
        "#입력: (0,1) → 0×(-2) + 1×(-2) + 3 = 1 → 1 (True)\n",
        "#입력: (1,0) → 1×(-2) + 0×(-2) + 3 = 1 → 1 (True)\n",
        "#입력: (1,1) → 1×(-2) + 1×(-2) + 3 = -1 → 0 (False)"
      ],
      "metadata": {
        "id": "mDakxGWFDWS1"
      },
      "id": "mDakxGWFDWS1",
      "execution_count": 32,
      "outputs": []
    },
    {
      "cell_type": "markdown",
      "id": "00c8a0f0-a6ca-45dd-9d7a-7cb999c5e26a",
      "metadata": {
        "id": "00c8a0f0-a6ca-45dd-9d7a-7cb999c5e26a"
      },
      "source": [
        " ### (3) OR 함수 정의 _ \"하나라도 참이면 참\" 두 입력 중 하나라도 1이면 출력이 1\n",
        "- `w = [2,2]`, `b = -1`"
      ]
    },
    {
      "cell_type": "code",
      "execution_count": 24,
      "id": "a2461434-cee0-4226-a652-bbc1429f78d3",
      "metadata": {
        "id": "a2461434-cee0-4226-a652-bbc1429f78d3"
      },
      "outputs": [],
      "source": [
        "def OR(input):\n",
        "    w = np.array([2,2])\n",
        "    b = -1\n",
        "    return perceptron(input,w,b)"
      ]
    },
    {
      "cell_type": "code",
      "source": [
        "# print(NAND)의 출력값 = (0.1.1.1)\n",
        "\n",
        "#OR 게이트:\n",
        "#방정식: 2*x1 + 2*x2 - 1 = 0\n",
        "#2*x1 + 2*x2 = 1 선 위에 있을 때 1\n",
        "\n",
        "#입력: (0,0) → 0×2 + 0×2 + (-1) = -1 → 0 (False)\n",
        "#입력: (0,1) → 0×2 + 1×2 + (-1) = 1 → 1 (True)\n",
        "#입력: (1,0) → 1×2 + 0×2 + (-1) = 1 → 1 (True)\n",
        "#입력: (1,1) → 1×2 + 1×2 + (-1) = 3 → 1 (True)"
      ],
      "metadata": {
        "id": "-rYDGPVRDukd"
      },
      "id": "-rYDGPVRDukd",
      "execution_count": null,
      "outputs": []
    },
    {
      "cell_type": "markdown",
      "id": "b5a2e508-5df7-46f1-a2a7-28feb07caf3f",
      "metadata": {
        "id": "b5a2e508-5df7-46f1-a2a7-28feb07caf3f"
      },
      "source": [
        "### (4) X에 대한 AND/NAND/OR 출력 확인"
      ]
    },
    {
      "cell_type": "code",
      "execution_count": 25,
      "id": "5fe42050-21dd-420a-a8fb-bf7c8bfb0749",
      "metadata": {
        "id": "5fe42050-21dd-420a-a8fb-bf7c8bfb0749",
        "outputId": "202c60d9-b1b2-454d-b3f4-0b6a1d724cbb",
        "colab": {
          "base_uri": "https://localhost:8080/"
        }
      },
      "outputs": [
        {
          "output_type": "stream",
          "name": "stdout",
          "text": [
            "[0 0 0 1] [1 1 1 0] [0 1 1 1]\n"
          ]
        }
      ],
      "source": [
        "print(AND(X), NAND(X), OR(X))"
      ]
    },
    {
      "cell_type": "markdown",
      "id": "95207d95-3731-47da-8a05-23991c0ac195",
      "metadata": {
        "id": "95207d95-3731-47da-8a05-23991c0ac195"
      },
      "source": [
        "## 3. XOR 정의"
      ]
    },
    {
      "cell_type": "markdown",
      "id": "b4493079-00bd-495e-9cec-ca55b5292c89",
      "metadata": {
        "id": "b4493079-00bd-495e-9cec-ca55b5292c89"
      },
      "source": [
        "### (1) AND/NAND/OR 를 이용한 XOR 정의_ 특징: 두 입력이 다를 때만 1, 같으면 0\n",
        "\n",
        "AND, OR, NAND는 직선 하나로 구분 가능\n",
        "\n",
        "XOR은 직선 하나로 구분 불가능\n",
        "\n",
        "XOR을 구현하려면 은닉층(Hidden Layer) 이 필요 SO, 다층 퍼셉트"
      ]
    },
    {
      "cell_type": "code",
      "execution_count": 26,
      "id": "cf12c460-f5ee-4c7c-9cf0-22418a9ed2c0",
      "metadata": {
        "id": "cf12c460-f5ee-4c7c-9cf0-22418a9ed2c0"
      },
      "outputs": [],
      "source": [
        "def XOR(input):\n",
        "    s1 = NAND(input) # NAND 결과_ [1, 1, 1, 0] / so,1D 배열 shape: (4,)\n",
        "    s2 = OR(input)  # OR 결과_ [0, 1, 1, 1] / so, 2D 배열 shape: (4,)\n",
        "\n",
        "    # AND의 입력은 s1과 s2가 결합된 (4,2) shape이 되어야 함/ why? AND는 2D를 원하기에\n",
        "    # 1. s1과 s2를 (4,1) shape으로 변환\n",
        "    s1_r = s1.reshape(-1,1)  # shape: (4, 1)\n",
        "    s2_r = s2.reshape(-1,1)  # shape: (4, 1)\n",
        "    print(s1_r)= [1,1,1,0]\n",
        "    print(s2_r)= [0,1,1,1]\n",
        "\n",
        "    # 2. shape이 변경된 s1과 s2를 좌우(axis=1)결합\n",
        "    input_and = np.concatenate((s1_r,s2_r),axis=1)\n",
        "    return AND(input_and)\n",
        "    print(input_and)= [[1,0]\n",
        "                        [1,1]\n",
        "                        [1,1]\n",
        "                        [0,1]]\n",
        "# def XOR(input):\n",
        "#     return AND(np.concatenate((NAND(input).reshape(-1,1),OR(input).reshape(-1,1)),\n",
        "#                               axis=1))"
      ]
    },
    {
      "cell_type": "markdown",
      "id": "85d48501-fdd7-4bc7-a345-bc1afa1912a3",
      "metadata": {
        "id": "85d48501-fdd7-4bc7-a345-bc1afa1912a3"
      },
      "source": [
        "### (2) X에 대한 XOR 출력 확인"
      ]
    },
    {
      "cell_type": "code",
      "execution_count": 27,
      "id": "f70085ac-05fc-46c3-abcf-78507629f62c",
      "metadata": {
        "id": "f70085ac-05fc-46c3-abcf-78507629f62c",
        "outputId": "27dfd197-6e11-4d46-b4ae-7f98fbb8e0bb",
        "colab": {
          "base_uri": "https://localhost:8080/"
        }
      },
      "outputs": [
        {
          "output_type": "execute_result",
          "data": {
            "text/plain": [
              "array([0, 1, 1, 0])"
            ]
          },
          "metadata": {},
          "execution_count": 27
        }
      ],
      "source": [
        "XOR(X)"
      ]
    },
    {
      "cell_type": "code",
      "source": [
        "#입력 X (4,2)\n",
        "#   ↓\n",
        "#[NAND] → s1 (4,) → reshape → s1_r (4,1)\n",
        "#[OR]   → s2 (4,) → reshape → s2_r (4,1)\n",
        "#    ↓\n",
        "#concatenate(axis=1) → input_and (4,2)\n",
        "#    ↓\n",
        "#[AND] → 최종 출력 (4,)\n",
        "#    ↓\n",
        "#[0, 1, 1, 0] (XOR 완성!)"
      ],
      "metadata": {
        "id": "KS0XzUEXHq9G"
      },
      "id": "KS0XzUEXHq9G",
      "execution_count": null,
      "outputs": []
    }
  ],
  "metadata": {
    "kernelspec": {
      "display_name": "Python 3 (ipykernel)",
      "language": "python",
      "name": "python3"
    },
    "language_info": {
      "codemirror_mode": {
        "name": "ipython",
        "version": 3
      },
      "file_extension": ".py",
      "mimetype": "text/x-python",
      "name": "python",
      "nbconvert_exporter": "python",
      "pygments_lexer": "ipython3",
      "version": "3.11.7"
    },
    "colab": {
      "provenance": []
    }
  },
  "nbformat": 4,
  "nbformat_minor": 5
}