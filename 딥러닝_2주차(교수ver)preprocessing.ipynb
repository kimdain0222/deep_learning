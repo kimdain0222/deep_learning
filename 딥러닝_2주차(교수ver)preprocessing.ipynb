{
  "cells": [
    {
      "cell_type": "code",
      "execution_count": 3,
      "id": "61587d5b-96cc-4dd9-92ab-d2777ce237d4",
      "metadata": {
        "id": "61587d5b-96cc-4dd9-92ab-d2777ce237d4"
      },
      "outputs": [],
      "source": [
        "import numpy as np\n",
        "import pandas as pd"
      ]
    },
    {
      "cell_type": "code",
      "execution_count": 4,
      "id": "3d21fdfd-8fe8-4645-ae9d-adeb5ec2f32a",
      "metadata": {
        "id": "3d21fdfd-8fe8-4645-ae9d-adeb5ec2f32a",
        "outputId": "dc7df589-4a44-4c8e-d362-3d9f6e1e5dda",
        "colab": {
          "base_uri": "https://localhost:8080/",
          "height": 362
        }
      },
      "outputs": [
        {
          "output_type": "execute_result",
          "data": {
            "text/plain": [
              "       Name  Country   Age   Salary Purchased\n",
              "0     James   France  44.0  72000.0        No\n",
              "1       Tim    Spain  27.0  48000.0       Yes\n",
              "2     Sarah  Germany  30.0  54000.0        No\n",
              "3    Robert    Spain  38.0  61000.0        No\n",
              "4      Emma  Germany  40.0      NaN       Yes\n",
              "5  Jennifer   France  35.0  58000.0       Yes\n",
              "6     Linda    Spain   NaN  52000.0        No\n",
              "7    Thomas   France  48.0  79000.0       Yes\n",
              "8       Ben  Germany  50.0  83000.0        No\n",
              "9  Scarlett   France  37.0  67000.0       Yes"
            ],
            "text/html": [
              "\n",
              "  <div id=\"df-ec865ceb-a948-44f2-aaa1-7ea8155a156b\" class=\"colab-df-container\">\n",
              "    <div>\n",
              "<style scoped>\n",
              "    .dataframe tbody tr th:only-of-type {\n",
              "        vertical-align: middle;\n",
              "    }\n",
              "\n",
              "    .dataframe tbody tr th {\n",
              "        vertical-align: top;\n",
              "    }\n",
              "\n",
              "    .dataframe thead th {\n",
              "        text-align: right;\n",
              "    }\n",
              "</style>\n",
              "<table border=\"1\" class=\"dataframe\">\n",
              "  <thead>\n",
              "    <tr style=\"text-align: right;\">\n",
              "      <th></th>\n",
              "      <th>Name</th>\n",
              "      <th>Country</th>\n",
              "      <th>Age</th>\n",
              "      <th>Salary</th>\n",
              "      <th>Purchased</th>\n",
              "    </tr>\n",
              "  </thead>\n",
              "  <tbody>\n",
              "    <tr>\n",
              "      <th>0</th>\n",
              "      <td>James</td>\n",
              "      <td>France</td>\n",
              "      <td>44.0</td>\n",
              "      <td>72000.0</td>\n",
              "      <td>No</td>\n",
              "    </tr>\n",
              "    <tr>\n",
              "      <th>1</th>\n",
              "      <td>Tim</td>\n",
              "      <td>Spain</td>\n",
              "      <td>27.0</td>\n",
              "      <td>48000.0</td>\n",
              "      <td>Yes</td>\n",
              "    </tr>\n",
              "    <tr>\n",
              "      <th>2</th>\n",
              "      <td>Sarah</td>\n",
              "      <td>Germany</td>\n",
              "      <td>30.0</td>\n",
              "      <td>54000.0</td>\n",
              "      <td>No</td>\n",
              "    </tr>\n",
              "    <tr>\n",
              "      <th>3</th>\n",
              "      <td>Robert</td>\n",
              "      <td>Spain</td>\n",
              "      <td>38.0</td>\n",
              "      <td>61000.0</td>\n",
              "      <td>No</td>\n",
              "    </tr>\n",
              "    <tr>\n",
              "      <th>4</th>\n",
              "      <td>Emma</td>\n",
              "      <td>Germany</td>\n",
              "      <td>40.0</td>\n",
              "      <td>NaN</td>\n",
              "      <td>Yes</td>\n",
              "    </tr>\n",
              "    <tr>\n",
              "      <th>5</th>\n",
              "      <td>Jennifer</td>\n",
              "      <td>France</td>\n",
              "      <td>35.0</td>\n",
              "      <td>58000.0</td>\n",
              "      <td>Yes</td>\n",
              "    </tr>\n",
              "    <tr>\n",
              "      <th>6</th>\n",
              "      <td>Linda</td>\n",
              "      <td>Spain</td>\n",
              "      <td>NaN</td>\n",
              "      <td>52000.0</td>\n",
              "      <td>No</td>\n",
              "    </tr>\n",
              "    <tr>\n",
              "      <th>7</th>\n",
              "      <td>Thomas</td>\n",
              "      <td>France</td>\n",
              "      <td>48.0</td>\n",
              "      <td>79000.0</td>\n",
              "      <td>Yes</td>\n",
              "    </tr>\n",
              "    <tr>\n",
              "      <th>8</th>\n",
              "      <td>Ben</td>\n",
              "      <td>Germany</td>\n",
              "      <td>50.0</td>\n",
              "      <td>83000.0</td>\n",
              "      <td>No</td>\n",
              "    </tr>\n",
              "    <tr>\n",
              "      <th>9</th>\n",
              "      <td>Scarlett</td>\n",
              "      <td>France</td>\n",
              "      <td>37.0</td>\n",
              "      <td>67000.0</td>\n",
              "      <td>Yes</td>\n",
              "    </tr>\n",
              "  </tbody>\n",
              "</table>\n",
              "</div>\n",
              "    <div class=\"colab-df-buttons\">\n",
              "\n",
              "  <div class=\"colab-df-container\">\n",
              "    <button class=\"colab-df-convert\" onclick=\"convertToInteractive('df-ec865ceb-a948-44f2-aaa1-7ea8155a156b')\"\n",
              "            title=\"Convert this dataframe to an interactive table.\"\n",
              "            style=\"display:none;\">\n",
              "\n",
              "  <svg xmlns=\"http://www.w3.org/2000/svg\" height=\"24px\" viewBox=\"0 -960 960 960\">\n",
              "    <path d=\"M120-120v-720h720v720H120Zm60-500h600v-160H180v160Zm220 220h160v-160H400v160Zm0 220h160v-160H400v160ZM180-400h160v-160H180v160Zm440 0h160v-160H620v160ZM180-180h160v-160H180v160Zm440 0h160v-160H620v160Z\"/>\n",
              "  </svg>\n",
              "    </button>\n",
              "\n",
              "  <style>\n",
              "    .colab-df-container {\n",
              "      display:flex;\n",
              "      gap: 12px;\n",
              "    }\n",
              "\n",
              "    .colab-df-convert {\n",
              "      background-color: #E8F0FE;\n",
              "      border: none;\n",
              "      border-radius: 50%;\n",
              "      cursor: pointer;\n",
              "      display: none;\n",
              "      fill: #1967D2;\n",
              "      height: 32px;\n",
              "      padding: 0 0 0 0;\n",
              "      width: 32px;\n",
              "    }\n",
              "\n",
              "    .colab-df-convert:hover {\n",
              "      background-color: #E2EBFA;\n",
              "      box-shadow: 0px 1px 2px rgba(60, 64, 67, 0.3), 0px 1px 3px 1px rgba(60, 64, 67, 0.15);\n",
              "      fill: #174EA6;\n",
              "    }\n",
              "\n",
              "    .colab-df-buttons div {\n",
              "      margin-bottom: 4px;\n",
              "    }\n",
              "\n",
              "    [theme=dark] .colab-df-convert {\n",
              "      background-color: #3B4455;\n",
              "      fill: #D2E3FC;\n",
              "    }\n",
              "\n",
              "    [theme=dark] .colab-df-convert:hover {\n",
              "      background-color: #434B5C;\n",
              "      box-shadow: 0px 1px 3px 1px rgba(0, 0, 0, 0.15);\n",
              "      filter: drop-shadow(0px 1px 2px rgba(0, 0, 0, 0.3));\n",
              "      fill: #FFFFFF;\n",
              "    }\n",
              "  </style>\n",
              "\n",
              "    <script>\n",
              "      const buttonEl =\n",
              "        document.querySelector('#df-ec865ceb-a948-44f2-aaa1-7ea8155a156b button.colab-df-convert');\n",
              "      buttonEl.style.display =\n",
              "        google.colab.kernel.accessAllowed ? 'block' : 'none';\n",
              "\n",
              "      async function convertToInteractive(key) {\n",
              "        const element = document.querySelector('#df-ec865ceb-a948-44f2-aaa1-7ea8155a156b');\n",
              "        const dataTable =\n",
              "          await google.colab.kernel.invokeFunction('convertToInteractive',\n",
              "                                                    [key], {});\n",
              "        if (!dataTable) return;\n",
              "\n",
              "        const docLinkHtml = 'Like what you see? Visit the ' +\n",
              "          '<a target=\"_blank\" href=https://colab.research.google.com/notebooks/data_table.ipynb>data table notebook</a>'\n",
              "          + ' to learn more about interactive tables.';\n",
              "        element.innerHTML = '';\n",
              "        dataTable['output_type'] = 'display_data';\n",
              "        await google.colab.output.renderOutput(dataTable, element);\n",
              "        const docLink = document.createElement('div');\n",
              "        docLink.innerHTML = docLinkHtml;\n",
              "        element.appendChild(docLink);\n",
              "      }\n",
              "    </script>\n",
              "  </div>\n",
              "\n",
              "\n",
              "    <div id=\"df-211c8ddf-3073-4d76-886e-9a56cdd29634\">\n",
              "      <button class=\"colab-df-quickchart\" onclick=\"quickchart('df-211c8ddf-3073-4d76-886e-9a56cdd29634')\"\n",
              "                title=\"Suggest charts\"\n",
              "                style=\"display:none;\">\n",
              "\n",
              "<svg xmlns=\"http://www.w3.org/2000/svg\" height=\"24px\"viewBox=\"0 0 24 24\"\n",
              "     width=\"24px\">\n",
              "    <g>\n",
              "        <path d=\"M19 3H5c-1.1 0-2 .9-2 2v14c0 1.1.9 2 2 2h14c1.1 0 2-.9 2-2V5c0-1.1-.9-2-2-2zM9 17H7v-7h2v7zm4 0h-2V7h2v10zm4 0h-2v-4h2v4z\"/>\n",
              "    </g>\n",
              "</svg>\n",
              "      </button>\n",
              "\n",
              "<style>\n",
              "  .colab-df-quickchart {\n",
              "      --bg-color: #E8F0FE;\n",
              "      --fill-color: #1967D2;\n",
              "      --hover-bg-color: #E2EBFA;\n",
              "      --hover-fill-color: #174EA6;\n",
              "      --disabled-fill-color: #AAA;\n",
              "      --disabled-bg-color: #DDD;\n",
              "  }\n",
              "\n",
              "  [theme=dark] .colab-df-quickchart {\n",
              "      --bg-color: #3B4455;\n",
              "      --fill-color: #D2E3FC;\n",
              "      --hover-bg-color: #434B5C;\n",
              "      --hover-fill-color: #FFFFFF;\n",
              "      --disabled-bg-color: #3B4455;\n",
              "      --disabled-fill-color: #666;\n",
              "  }\n",
              "\n",
              "  .colab-df-quickchart {\n",
              "    background-color: var(--bg-color);\n",
              "    border: none;\n",
              "    border-radius: 50%;\n",
              "    cursor: pointer;\n",
              "    display: none;\n",
              "    fill: var(--fill-color);\n",
              "    height: 32px;\n",
              "    padding: 0;\n",
              "    width: 32px;\n",
              "  }\n",
              "\n",
              "  .colab-df-quickchart:hover {\n",
              "    background-color: var(--hover-bg-color);\n",
              "    box-shadow: 0 1px 2px rgba(60, 64, 67, 0.3), 0 1px 3px 1px rgba(60, 64, 67, 0.15);\n",
              "    fill: var(--button-hover-fill-color);\n",
              "  }\n",
              "\n",
              "  .colab-df-quickchart-complete:disabled,\n",
              "  .colab-df-quickchart-complete:disabled:hover {\n",
              "    background-color: var(--disabled-bg-color);\n",
              "    fill: var(--disabled-fill-color);\n",
              "    box-shadow: none;\n",
              "  }\n",
              "\n",
              "  .colab-df-spinner {\n",
              "    border: 2px solid var(--fill-color);\n",
              "    border-color: transparent;\n",
              "    border-bottom-color: var(--fill-color);\n",
              "    animation:\n",
              "      spin 1s steps(1) infinite;\n",
              "  }\n",
              "\n",
              "  @keyframes spin {\n",
              "    0% {\n",
              "      border-color: transparent;\n",
              "      border-bottom-color: var(--fill-color);\n",
              "      border-left-color: var(--fill-color);\n",
              "    }\n",
              "    20% {\n",
              "      border-color: transparent;\n",
              "      border-left-color: var(--fill-color);\n",
              "      border-top-color: var(--fill-color);\n",
              "    }\n",
              "    30% {\n",
              "      border-color: transparent;\n",
              "      border-left-color: var(--fill-color);\n",
              "      border-top-color: var(--fill-color);\n",
              "      border-right-color: var(--fill-color);\n",
              "    }\n",
              "    40% {\n",
              "      border-color: transparent;\n",
              "      border-right-color: var(--fill-color);\n",
              "      border-top-color: var(--fill-color);\n",
              "    }\n",
              "    60% {\n",
              "      border-color: transparent;\n",
              "      border-right-color: var(--fill-color);\n",
              "    }\n",
              "    80% {\n",
              "      border-color: transparent;\n",
              "      border-right-color: var(--fill-color);\n",
              "      border-bottom-color: var(--fill-color);\n",
              "    }\n",
              "    90% {\n",
              "      border-color: transparent;\n",
              "      border-bottom-color: var(--fill-color);\n",
              "    }\n",
              "  }\n",
              "</style>\n",
              "\n",
              "      <script>\n",
              "        async function quickchart(key) {\n",
              "          const quickchartButtonEl =\n",
              "            document.querySelector('#' + key + ' button');\n",
              "          quickchartButtonEl.disabled = true;  // To prevent multiple clicks.\n",
              "          quickchartButtonEl.classList.add('colab-df-spinner');\n",
              "          try {\n",
              "            const charts = await google.colab.kernel.invokeFunction(\n",
              "                'suggestCharts', [key], {});\n",
              "          } catch (error) {\n",
              "            console.error('Error during call to suggestCharts:', error);\n",
              "          }\n",
              "          quickchartButtonEl.classList.remove('colab-df-spinner');\n",
              "          quickchartButtonEl.classList.add('colab-df-quickchart-complete');\n",
              "        }\n",
              "        (() => {\n",
              "          let quickchartButtonEl =\n",
              "            document.querySelector('#df-211c8ddf-3073-4d76-886e-9a56cdd29634 button');\n",
              "          quickchartButtonEl.style.display =\n",
              "            google.colab.kernel.accessAllowed ? 'block' : 'none';\n",
              "        })();\n",
              "      </script>\n",
              "    </div>\n",
              "\n",
              "  <div id=\"id_a42607ab-c695-4d25-ae86-bcee0c034990\">\n",
              "    <style>\n",
              "      .colab-df-generate {\n",
              "        background-color: #E8F0FE;\n",
              "        border: none;\n",
              "        border-radius: 50%;\n",
              "        cursor: pointer;\n",
              "        display: none;\n",
              "        fill: #1967D2;\n",
              "        height: 32px;\n",
              "        padding: 0 0 0 0;\n",
              "        width: 32px;\n",
              "      }\n",
              "\n",
              "      .colab-df-generate:hover {\n",
              "        background-color: #E2EBFA;\n",
              "        box-shadow: 0px 1px 2px rgba(60, 64, 67, 0.3), 0px 1px 3px 1px rgba(60, 64, 67, 0.15);\n",
              "        fill: #174EA6;\n",
              "      }\n",
              "\n",
              "      [theme=dark] .colab-df-generate {\n",
              "        background-color: #3B4455;\n",
              "        fill: #D2E3FC;\n",
              "      }\n",
              "\n",
              "      [theme=dark] .colab-df-generate:hover {\n",
              "        background-color: #434B5C;\n",
              "        box-shadow: 0px 1px 3px 1px rgba(0, 0, 0, 0.15);\n",
              "        filter: drop-shadow(0px 1px 2px rgba(0, 0, 0, 0.3));\n",
              "        fill: #FFFFFF;\n",
              "      }\n",
              "    </style>\n",
              "    <button class=\"colab-df-generate\" onclick=\"generateWithVariable('df')\"\n",
              "            title=\"Generate code using this dataframe.\"\n",
              "            style=\"display:none;\">\n",
              "\n",
              "  <svg xmlns=\"http://www.w3.org/2000/svg\" height=\"24px\"viewBox=\"0 0 24 24\"\n",
              "       width=\"24px\">\n",
              "    <path d=\"M7,19H8.4L18.45,9,17,7.55,7,17.6ZM5,21V16.75L18.45,3.32a2,2,0,0,1,2.83,0l1.4,1.43a1.91,1.91,0,0,1,.58,1.4,1.91,1.91,0,0,1-.58,1.4L9.25,21ZM18.45,9,17,7.55Zm-12,3A5.31,5.31,0,0,0,4.9,8.1,5.31,5.31,0,0,0,1,6.5,5.31,5.31,0,0,0,4.9,4.9,5.31,5.31,0,0,0,6.5,1,5.31,5.31,0,0,0,8.1,4.9,5.31,5.31,0,0,0,12,6.5,5.46,5.46,0,0,0,6.5,12Z\"/>\n",
              "  </svg>\n",
              "    </button>\n",
              "    <script>\n",
              "      (() => {\n",
              "      const buttonEl =\n",
              "        document.querySelector('#id_a42607ab-c695-4d25-ae86-bcee0c034990 button.colab-df-generate');\n",
              "      buttonEl.style.display =\n",
              "        google.colab.kernel.accessAllowed ? 'block' : 'none';\n",
              "\n",
              "      buttonEl.onclick = () => {\n",
              "        google.colab.notebook.generateWithVariable('df');\n",
              "      }\n",
              "      })();\n",
              "    </script>\n",
              "  </div>\n",
              "\n",
              "    </div>\n",
              "  </div>\n"
            ],
            "application/vnd.google.colaboratory.intrinsic+json": {
              "type": "dataframe",
              "variable_name": "df",
              "summary": "{\n  \"name\": \"df\",\n  \"rows\": 10,\n  \"fields\": [\n    {\n      \"column\": \"Name\",\n      \"properties\": {\n        \"dtype\": \"string\",\n        \"num_unique_values\": 10,\n        \"samples\": [\n          \"Ben\",\n          \"Tim\",\n          \"Jennifer\"\n        ],\n        \"semantic_type\": \"\",\n        \"description\": \"\"\n      }\n    },\n    {\n      \"column\": \"Country\",\n      \"properties\": {\n        \"dtype\": \"category\",\n        \"num_unique_values\": 3,\n        \"samples\": [\n          \"France\",\n          \"Spain\",\n          \"Germany\"\n        ],\n        \"semantic_type\": \"\",\n        \"description\": \"\"\n      }\n    },\n    {\n      \"column\": \"Age\",\n      \"properties\": {\n        \"dtype\": \"number\",\n        \"std\": 7.693792591722527,\n        \"min\": 27.0,\n        \"max\": 50.0,\n        \"num_unique_values\": 9,\n        \"samples\": [\n          50.0,\n          27.0,\n          35.0\n        ],\n        \"semantic_type\": \"\",\n        \"description\": \"\"\n      }\n    },\n    {\n      \"column\": \"Salary\",\n      \"properties\": {\n        \"dtype\": \"number\",\n        \"std\": 12265.579661982732,\n        \"min\": 48000.0,\n        \"max\": 83000.0,\n        \"num_unique_values\": 9,\n        \"samples\": [\n          83000.0,\n          48000.0,\n          52000.0\n        ],\n        \"semantic_type\": \"\",\n        \"description\": \"\"\n      }\n    },\n    {\n      \"column\": \"Purchased\",\n      \"properties\": {\n        \"dtype\": \"category\",\n        \"num_unique_values\": 2,\n        \"samples\": [\n          \"Yes\",\n          \"No\"\n        ],\n        \"semantic_type\": \"\",\n        \"description\": \"\"\n      }\n    }\n  ]\n}"
            }
          },
          "metadata": {},
          "execution_count": 4
        }
      ],
      "source": [
        "df = pd.read_csv('sample.csv')\n",
        "df"
      ]
    },
    {
      "cell_type": "code",
      "execution_count": 5,
      "id": "9cceeb20-75e9-45b1-996a-983f62108a85",
      "metadata": {
        "id": "9cceeb20-75e9-45b1-996a-983f62108a85",
        "outputId": "a6cb3262-ca4e-4592-e844-c436a02ceb76",
        "colab": {
          "base_uri": "https://localhost:8080/"
        }
      },
      "outputs": [
        {
          "output_type": "stream",
          "name": "stdout",
          "text": [
            "<class 'pandas.core.frame.DataFrame'>\n",
            "RangeIndex: 10 entries, 0 to 9\n",
            "Data columns (total 5 columns):\n",
            " #   Column     Non-Null Count  Dtype  \n",
            "---  ------     --------------  -----  \n",
            " 0   Name       10 non-null     object \n",
            " 1   Country    10 non-null     object \n",
            " 2   Age        9 non-null      float64\n",
            " 3   Salary     9 non-null      float64\n",
            " 4   Purchased  10 non-null     object \n",
            "dtypes: float64(2), object(3)\n",
            "memory usage: 532.0+ bytes\n"
          ]
        }
      ],
      "source": [
        "df.info()"
      ]
    },
    {
      "cell_type": "markdown",
      "id": "1a7f5b86-4584-44c2-bb8f-6f0089f987a4",
      "metadata": {
        "id": "1a7f5b86-4584-44c2-bb8f-6f0089f987a4"
      },
      "source": [
        "## 1. ndarray로 변환"
      ]
    },
    {
      "cell_type": "code",
      "execution_count": 18,
      "id": "96e8b07e-771e-4104-ab66-0cc283f00b0a",
      "metadata": {
        "id": "96e8b07e-771e-4104-ab66-0cc283f00b0a"
      },
      "outputs": [],
      "source": [
        "data = df.values\n",
        "#pandas DataFrame의 모든 데이터를 NumPy의 ndarray(다차원 배열) 형태로 변환하는 코드\n",
        "#DataFrame의 인덱스와 컬럼 이름은 제외하고, 오직 데이터 값만 추출\n",
        "#반환되는 배열의 shape는 (행 개수, 열 개수)"
      ]
    },
    {
      "cell_type": "code",
      "execution_count": 20,
      "id": "9d99afa1-2f3e-41ad-940e-4a5460e2ad14",
      "metadata": {
        "id": "9d99afa1-2f3e-41ad-940e-4a5460e2ad14",
        "outputId": "b7283407-79fb-4705-cba0-f68a1286f5b2",
        "colab": {
          "base_uri": "https://localhost:8080/"
        }
      },
      "outputs": [
        {
          "output_type": "stream",
          "name": "stdout",
          "text": [
            "<class 'numpy.ndarray'>\n",
            "['Tim' 'Spain' 27.0 48000.0 'Yes']\n",
            "[44.0 27.0 30.0 38.0 40.0 35.0 nan 48.0 50.0 37.0]\n"
          ]
        }
      ],
      "source": [
        "print(type(data))\n",
        "#변환된 data 객체의 타입을 출력하는 코드\n",
        "#출력 결과: <class 'numpy.ndarray'>\n",
        "#이는 이제 data가 pandas DataFrame이 아닌 NumPy 배열임을 확인\n",
        "\n",
        "print(data[1,:])\n",
        "#NumPy 배열의 인덱싱을 사용\n",
        "#data[1, :]의 의미_ 첫 번째 인덱스 1: 2번째 행을 선택/ 콜론 :: 모든 열을 선택\n",
        "#결과: 2번째 행의 모든 데이터\n",
        "#[[1 4 7]\n",
        "# [2 5 8]  ← 이 행 전체를 선택한 것\n",
        "# [3 6 9]]\n",
        "\n",
        "\n",
        "print(data[:,2])\n",
        "#콜론 :: 모든 행을 선택\n",
        "#두 번째 인덱스 2: 3번째 열을 선택\n",
        "#결과: 3번째 열의 모든 데이터\n",
        "#[[1 4 7]\n",
        "# [2 5 8]\n",
        "# [3 6 9]]\n",
        "#      ↑\n",
        "# 이 열 전체를 선택"
      ]
    },
    {
      "cell_type": "markdown",
      "id": "2034ab90-86fa-49d9-90fc-0db37afe86c0",
      "metadata": {
        "id": "2034ab90-86fa-49d9-90fc-0db37afe86c0"
      },
      "source": [
        "## 2. X(feature)와 y(label,target) 분리\n",
        "- `X`: `Country`, `Age`, `Salary`열 (index 1/2/3)\n",
        "- `y`: `Purchased`열 (index 4 or -1)\n",
        "\n",
        "\"나라, 나이, 월급을 보고 → 이 사람이 구매할지 말지 예측하는 기계\"\n",
        "X (문제지): Country, Age, Salary 열\n",
        "y (정답지): Purchased 열"
      ]
    },
    {
      "cell_type": "code",
      "execution_count": 8,
      "id": "e6b9ee13-d89e-429f-b93b-15a9eb02f995",
      "metadata": {
        "id": "e6b9ee13-d89e-429f-b93b-15a9eb02f995"
      },
      "outputs": [],
      "source": [
        "X = data[:,1:-1]   #: = \"모든 행\"  /  1:-1 = \"1번열부터 (맨끝-1)번열까지\"\n",
        "y = data[:,-1]     # : = \"모든 행\"   /  -1 = \"맨 마지막 열\" (Python에서 -1은 끝에서 첫번째)"
      ]
    },
    {
      "cell_type": "code",
      "execution_count": 9,
      "id": "58953980-4533-482c-a2a8-cce459809d62",
      "metadata": {
        "id": "58953980-4533-482c-a2a8-cce459809d62",
        "outputId": "23377ab2-5647-4a35-9a43-83295e6ddf1b",
        "colab": {
          "base_uri": "https://localhost:8080/"
        }
      },
      "outputs": [
        {
          "output_type": "stream",
          "name": "stdout",
          "text": [
            "(10, 3) (10,)\n"
          ]
        }
      ],
      "source": [
        "print(X.shape, y.shape)\n",
        "\n",
        "#X.shape = (5, 2): \"5개의 문제, 각 문제는 2개의 특징\"\n",
        "#y.shape = (5,): \"5개의 정답\""
      ]
    },
    {
      "cell_type": "markdown",
      "id": "a3c46b31-d128-4ade-ad97-3e13f4b4520e",
      "metadata": {
        "id": "a3c46b31-d128-4ade-ad97-3e13f4b4520e"
      },
      "source": [
        "- 일반적으로, `sklearn`과 `tensorflow` 등에 사용하는 `X`는 `2d array`, `y`는 `1d array`를 사용함 (단, `y`의 경우, 변환이 필요할 때, `2d`로의 변경이 필요한 경우도 있음)\n",
        "\n",
        "기계는 여러 사람 데이터를 한꺼번에 학습해야 하니까 2D가 필요!\n",
        "\n",
        "- `ANN`의 **classification model**을 직접 구현할 경우, `y`를 `2d array`로 생성하는 것이 수월할 수 있음 (각 class에 속할 확률)\n",
        "\n",
        "정답은 보통 1개니까!\n",
        "\n",
        "+) in ANN\n",
        "\n",
        "- y가 1D일 때 (단답형 느낌)\n",
        "\n",
        "y_1d = [0, 1, 0, 0, 1]  # 0=No, 1=Yes\n",
        "\n",
        "기계 출력: 0.7 (이게 0인지 1인지 헷갈림)\n",
        "\n",
        "- y가 2D일 때 (One-Hot Encoding) (확률 느낌)\n",
        "\n",
        "y_2d = [[1, 0],  # No\n",
        "        [0, 1],  # Yes  \n",
        "        [1, 0],  # No\n",
        "        [1, 0],  # No\n",
        "        [0, 1]]  # Yes\n",
        "\n",
        "기계 출력: [0.3, 0.7] → \"No일 확률 30%, Yes일 확률 70%\" 기계 출력: 0.7 (이게 0인지 1인지 헷갈림) so, 2D는 확률을 출력해서 더 확실\n"
      ]
    },
    {
      "cell_type": "code",
      "source": [
        "## <김당니 심화 학습용>\n",
        "import numpy as np\n",
        "from sklearn.linear_model import LogisticRegression\n",
        "\n",
        "# 데이터 준비\n",
        "X = np.array([[44, 72000],\n",
        "              [27, 48000],\n",
        "              [30, 54000],\n",
        "              [38, 61000],\n",
        "              [35, 58000]])  # 2D 배열 (5, 2)\n",
        "\n",
        "y = np.array(['No', 'Yes', 'No', 'No', 'Yes'])  # 1D 배열 (5,)\n",
        "\n",
        "print(\"X shape:\", X.shape)  # (5, 2) → 2D\n",
        "print(\"y shape:\", y.shape)  # (5,)   → 1D\n",
        "\n",
        "# sklearn 사용 (대부분의 라이브러리가 이 형식을 요구함)\n",
        "model = LogisticRegression()\n",
        "model.fit(X, y)  # ← X는 2D, y는 1D로 넣어야 함!"
      ],
      "metadata": {
        "id": "k5UCfZCHMRNN"
      },
      "id": "k5UCfZCHMRNN",
      "execution_count": null,
      "outputs": []
    },
    {
      "cell_type": "code",
      "source": [
        "## <김당니 심화 학습용>\n",
        "#1D 에서 2D로 변환 방법\n",
        "from sklearn.preprocessing import LabelBinarizer\n",
        "\n",
        "# 원본 y (1D)\n",
        "y_1d = ['No', 'Yes', 'No', 'No', 'Yes']\n",
        "\n",
        "# 2D로 변환\n",
        "lb = LabelBinarizer()\n",
        "y_2d = lb.fit_transform(y_1d)\n",
        "\n",
        "print(\"1D y:\", y_1d)\n",
        "print(\"2D y:\")\n",
        "print(y_2d)"
      ],
      "metadata": {
        "id": "VVH5ciX-NdV_"
      },
      "id": "VVH5ciX-NdV_",
      "execution_count": null,
      "outputs": []
    },
    {
      "cell_type": "markdown",
      "id": "9ef1f0f4-dcc9-45de-b41a-94918053b179",
      "metadata": {
        "id": "9ef1f0f4-dcc9-45de-b41a-94918053b179"
      },
      "source": [
        "## 3. training과 test data 분리\n",
        "\n",
        " 시험 공부에 비유해보기!\n",
        "\n",
        "Training 데이터 = \"기출문제집\" (공부용)\n",
        "\n",
        "Test 데이터 = \"실제 시험지\" (실전)\n",
        "\n"
      ]
    },
    {
      "cell_type": "code",
      "execution_count": 10,
      "id": "080bd3a1-0089-4405-a827-efeef62c32fd",
      "metadata": {
        "id": "080bd3a1-0089-4405-a827-efeef62c32fd"
      },
      "outputs": [],
      "source": [
        "from sklearn.model_selection import train_test_split"
      ]
    },
    {
      "cell_type": "code",
      "execution_count": 21,
      "id": "c232cec8-20c4-4cee-8fed-2d65e51c48ab",
      "metadata": {
        "id": "c232cec8-20c4-4cee-8fed-2d65e51c48ab"
      },
      "outputs": [],
      "source": [
        "X_train,X_test,y_train,y_test = train_test_split(X,y,test_size=0.3,random_state=5)\n",
        "#전체의 30%를 시험지로 만듦\n",
        "#100문제 중 30문제는 시험지, 70문제는 기출문제집\n",
        "\n",
        "#매번 같은 방식으로 나눔 (운에 의존 안 함)\n",
        "#예: \"5번 규칙으로 문제 나누기\n",
        "\n",
        "#X_train (기출문제집 - 문제지) _  7명 데이터 (70%)\n",
        "#y_train (기출문제집 - 정답지) _ 7개 정답\n",
        "#X_test (실제시험 - 문제지) _ 3명 데이터 (30%)\n",
        "#y_test (실제시험 - 정답지) _ 3개 정답\n",
        "\n"
      ]
    },
    {
      "cell_type": "markdown",
      "id": "0de48bb1-2ef9-4f5c-998e-eacd6421a31f",
      "metadata": {
        "id": "0de48bb1-2ef9-4f5c-998e-eacd6421a31f"
      },
      "source": [
        "- 반환하는 데이터의 순서를 기억할 것!\n",
        "\n",
        "- 데이터 입력이 하나일 경우, 2개의 결과만 반환함"
      ]
    },
    {
      "cell_type": "code",
      "execution_count": 12,
      "id": "c0e0b6b8-878b-4d16-8791-a4d26eb63740",
      "metadata": {
        "id": "c0e0b6b8-878b-4d16-8791-a4d26eb63740",
        "outputId": "fb2aaf15-0a7e-435c-9fbb-4495dbfd1b33",
        "colab": {
          "base_uri": "https://localhost:8080/"
        }
      },
      "outputs": [
        {
          "output_type": "stream",
          "name": "stdout",
          "text": [
            "(7, 3) (3, 3) (7,) (3,)\n"
          ]
        }
      ],
      "source": [
        "print(X_train.shape, X_test.shape, y_train.shape, y_test.shape)"
      ]
    },
    {
      "cell_type": "markdown",
      "id": "40eab584-3b02-4590-afa0-fc4775151305",
      "metadata": {
        "id": "40eab584-3b02-4590-afa0-fc4775151305"
      },
      "source": [
        "- `X_train.shape` = **(train 데이터 샘플의 수, 특징의 수)** _ X_train: (7, 2) → \"기출문제 7개, 각 문제 2개 특징\"\n",
        "- `X_test.shape` = **(test 데이터 샘플의 수, 특징의 수)** _ X_test: (3, 2) → \"시험문제 3개, 각 문제 2개 특징\"\n",
        "\n",
        "\n",
        "- `y_train.shape` = **(train 데이터 샘플의 수, )** _ y_train: (7,) → \"기출정답 7개\"\n",
        "\n",
        "\n",
        "- `y_test.shape` = **(test 데이터 샘플의 수, )** _ y_test: (3,) → \"시험정답 3개\"\n",
        "\n"
      ]
    },
    {
      "cell_type": "markdown",
      "id": "1694b071-02a0-4354-baa8-9f0c5c42bb08",
      "metadata": {
        "id": "1694b071-02a0-4354-baa8-9f0c5c42bb08"
      },
      "source": [
        "- `ANN` **classification model**일 때, 주로 `y`는 `2d array`로 생성하며, 이때 <br/>\n",
        "`y.shape` = **(데이터 샘플의 수, class의 수)**"
      ]
    },
    {
      "cell_type": "code",
      "source": [
        "# <김당니 심화 학습용>\n",
        "# 1D를 2D로 변화하는 법\n",
        "\n",
        "# 1. 원본 데이터 (1D y)\n",
        "X = np.array([[44, 72000], [27, 48000], [30, 54000], [38, 61000],\n",
        "              [35, 58000], [40, 60000], [25, 45000], [33, 55000]])\n",
        "y_1d = np.array(['No', 'Yes', 'No', 'No', 'Yes', 'No', 'Yes', 'No'])\n",
        "\n",
        "print(\"1. 원본 데이터\")\n",
        "print(\"X.shape:\", X.shape)    # (8, 2)\n",
        "print(\"y_1d:\", y_1d)          # 1D\n",
        "print(\"y_1d.shape:\", y_1d.shape)  # (8,)\n",
        "\n",
        "# 2. 1D → 2D 변환\n",
        "lb = LabelBinarizer()\n",
        "y_2d = lb.fit_transform(y_1d)\n",
        "\n",
        "print(\"\\n2. 1D → 2D 변환 후\")\n",
        "print(\"y_2d:\")\n",
        "print(y_2d)\n",
        "print(\"y_2d.shape:\", y_2d.shape)  # (8, 2)\n",
        "\n",
        "# 3. Train/Test 분리\n",
        "X_train, X_test, y_train, y_test = train_test_split(\n",
        "    X, y_2d, test_size=0.25, random_state=5\n",
        ")\n",
        "\n",
        "print(\"\\n3. Train/Test 분리 후\")\n",
        "print(\"X_train.shape:\", X_train.shape)  # (6, 2)\n",
        "print(\"X_test.shape:\", X_test.shape)    # (2, 2)\n",
        "print(\"y_train.shape:\", y_train.shape)  # (6, 2) ← 2D로!\n",
        "print(\"y_test.shape:\", y_test.shape)    # (2, 2) ← 2D로!\n",
        "\n",
        "print(\"\\n4. 실제 데이터 확인\")\n",
        "print(\"y_train:\")\n",
        "print(y_train)\n",
        "print(\"y_test:\")\n",
        "print(y_test)"
      ],
      "metadata": {
        "id": "Cks2dHE4ShQQ"
      },
      "id": "Cks2dHE4ShQQ",
      "execution_count": null,
      "outputs": []
    },
    {
      "cell_type": "markdown",
      "id": "7f032aa0-58ce-4104-b096-e9c91e4c2b7f",
      "metadata": {
        "id": "7f032aa0-58ce-4104-b096-e9c91e4c2b7f"
      },
      "source": [
        "## 4. 데이터 변환"
      ]
    },
    {
      "cell_type": "markdown",
      "id": "5a297bc9-fe8e-44b3-a205-2c1f79cad86d",
      "metadata": {
        "id": "5a297bc9-fe8e-44b3-a205-2c1f79cad86d"
      },
      "source": [
        "#### (1) str을 numeric value로 변환\n",
        "- `LabelEncoder`: str을 정수(0,1,2,..)로 변환_ 번호 매기기 (간단함)\n",
        "> - ex> `Germany`: 0, `Spain`: 1, `France`: 2\n",
        "- `OneHotEncoder`: str을 0과1의 조합으로 변환_ 자리 표시하기 (정확함)\n",
        "> - ex> `Germany`: [1,0,0], `Spain`: [0,1,0], `France`: [0,0,1]"
      ]
    },
    {
      "cell_type": "code",
      "execution_count": 13,
      "id": "dd7dda2c-16a7-4748-89dc-2112c94dbdc8",
      "metadata": {
        "id": "dd7dda2c-16a7-4748-89dc-2112c94dbdc8",
        "outputId": "d6a1a11f-3a1a-4b5e-caee-0c474654fb83",
        "colab": {
          "base_uri": "https://localhost:8080/"
        }
      },
      "outputs": [
        {
          "output_type": "stream",
          "name": "stdout",
          "text": [
            "['Germany' 'France' 'Spain' 'France' 'Germany' 'Spain' 'Spain']\n",
            "[1 0 2 0 1 2 2]\n"
          ]
        }
      ],
      "source": [
        "from sklearn.preprocessing import LabelEncoder\n",
        "le = LabelEncoder()\n",
        "# X_train의 첫번째 열을 정수로 변경\n",
        "le.fit(X_train[:,0])\n",
        "# fit: 변환(인코딩)을 위한 정보를 수집하는 단계\n",
        "# - 몇 종류의 str이 있고, 어떤 str을 어떤 정수로 변환할지 결정함, 실제 변환이 수행되지는 않음\n",
        "X_country_le = le.transform(X_train[:,0])\n",
        "# transform: 실제 변환 수행 (반드시 fit이 선행되어야 함)\n",
        "print(X_train[:,0])\n",
        "print(X_country_le)"
      ]
    },
    {
      "cell_type": "code",
      "source": [
        "# 당니쓰 코드\n",
        "from sklearn.preprocessing import LabelEncoder\n",
        "\n",
        "le = LabelEncoder()\n",
        "\n",
        "# 나라 데이터\n",
        "countries = ['France', 'Spain', 'Germany', 'Spain', 'France']\n",
        "\n",
        "# 1. 학습: 어떤 글자가 몇 번이 될지 결정\n",
        "le.fit(countries)\n",
        "# France: 0번, Germany: 1번, Spain: 2번 (가나다순)\n",
        "\n",
        "# 2. 변환: 실제로 숫자로 바꾸기\n",
        "numbers = le.transform(countries)\n",
        "\n",
        "print(\"원본 글자:\", countries)\n",
        "print(\"변환 숫자:\", numbers)"
      ],
      "metadata": {
        "id": "DUO1uKW4Y7fl"
      },
      "id": "DUO1uKW4Y7fl",
      "execution_count": null,
      "outputs": []
    },
    {
      "cell_type": "code",
      "execution_count": 14,
      "id": "18bbcb26-2c46-489a-bf48-8a1c73aee91a",
      "metadata": {
        "id": "18bbcb26-2c46-489a-bf48-8a1c73aee91a",
        "outputId": "33e798c9-182a-40cc-a28c-9ae36f3654fd",
        "colab": {
          "base_uri": "https://localhost:8080/"
        }
      },
      "outputs": [
        {
          "output_type": "stream",
          "name": "stdout",
          "text": [
            "[['Germany']\n",
            " ['France']\n",
            " ['Spain']\n",
            " ['France']\n",
            " ['Germany']\n",
            " ['Spain']\n",
            " ['Spain']]\n",
            "[[0. 1. 0.]\n",
            " [1. 0. 0.]\n",
            " [0. 0. 1.]\n",
            " [1. 0. 0.]\n",
            " [0. 1. 0.]\n",
            " [0. 0. 1.]\n",
            " [0. 0. 1.]]\n"
          ]
        }
      ],
      "source": [
        "from sklearn.preprocessing import OneHotEncoder\n",
        "ohe = OneHotEncoder()\n",
        "# OneHotEncoder의 경우, fit과 transform의 입력이 반드시 2d여야 함 (행, 열 모두 범위로 지정)\n",
        "ohe.fit(X_train[:,0:1])\n",
        "# OneHotEncoder.tranasform은 메모리 절약을 위해 sparse matrix 형태로 반환함\n",
        "# toarray()를 통해 2d array로 변환할 수 있다.\n",
        "X_country_ohe = ohe.transform(X_train[:,0:1]).toarray()\n",
        "print(X_train[:,0:1])\n",
        "print(X_country_ohe)"
      ]
    },
    {
      "cell_type": "code",
      "source": [
        "#당니쓰 코드\n",
        "\n",
        "from sklearn.preprocessing import OneHotEncoder\n",
        "import numpy as np\n",
        "\n",
        "ohe = OneHotEncoder()\n",
        "\n",
        "# 나라 데이터 (⚠️ 주의: 2D로 만들어야 함!)\n",
        "countries_2d = np.array([['France'], ['Spain'], ['Germany'], ['Spain'], ['France']])\n",
        "\n",
        "# 1. 학습\n",
        "ohe.fit(countries_2d)\n",
        "\n",
        "# 2. 변환 (toarray()로 일반 숫자 배열로)\n",
        "result = ohe.transform(countries_2d).toarray()\n",
        "\n",
        "print(\"원본 글자:\")\n",
        "print(countries_2d)\n",
        "print(\"OneHot 변환:\")\n",
        "print(result)"
      ],
      "metadata": {
        "id": "oK09RvzJZKUt"
      },
      "id": "oK09RvzJZKUt",
      "execution_count": null,
      "outputs": []
    },
    {
      "cell_type": "markdown",
      "id": "a7a8c004-e82e-4af3-8bc8-c4fbf515ac24",
      "metadata": {
        "id": "a7a8c004-e82e-4af3-8bc8-c4fbf515ac24"
      },
      "source": [
        "### (2) 특징 크기 변환\n",
        "- `StandardScaler`: 평균이 0이고 표준편차가 1인 값으로 변환 _ 표준 점수화 하는\n",
        "- `MinMaxScaler`: 지정된 최소/최대값 범위로 변환"
      ]
    },
    {
      "cell_type": "code",
      "execution_count": 15,
      "id": "d27c1e40-690b-4c40-9d8a-0c9e7a157b47",
      "metadata": {
        "id": "d27c1e40-690b-4c40-9d8a-0c9e7a157b47",
        "outputId": "da6d9ff1-f7c1-4ea8-a79b-ac3d8230f501",
        "colab": {
          "base_uri": "https://localhost:8080/"
        }
      },
      "outputs": [
        {
          "output_type": "stream",
          "name": "stdout",
          "text": [
            "[[40.0 nan]\n",
            " [48.0 79000.0]\n",
            " [27.0 48000.0]\n",
            " [44.0 72000.0]\n",
            " [50.0 83000.0]\n",
            " [nan 52000.0]\n",
            " [38.0 61000.0]]\n",
            "[[-0.15389262         nan]\n",
            " [ 0.90137106  1.00064154]\n",
            " [-1.86869611 -1.3552993 ]\n",
            " [ 0.37373922  0.4686549 ]\n",
            " [ 1.16518698  1.30463391]\n",
            " [        nan -1.05130693]\n",
            " [-0.41770854 -0.36732411]]\n"
          ]
        }
      ],
      "source": [
        "from sklearn.preprocessing import StandardScaler\n",
        "sc = StandardScaler()\n",
        "# X의 Age(index=2), Salary(index=3) 두 열을 Scaling함\n",
        "sc.fit(X_train[:,1:])  ## 평균, 표준편차 계산\n",
        "X_train_ss = sc.transform(X_train[:,1:])   ## 실제 변환\n",
        "print(X_train[:,1:])\n",
        "print(X_train_ss)\n",
        "\n",
        "\n",
        "#ex) StandardScaler 변환:\n",
        "# [[-1.22474487 -1.22474487]  # 둘 다 평균보다 1.22표준편차 아래\n",
        "# [ 1.22474487  1.22474487]  # 둘 다 평균보다 1.22표준편차 위\n",
        "# [ 0.          0.        ]] # 둘 다 평균과 같음"
      ]
    },
    {
      "cell_type": "code",
      "execution_count": 15,
      "id": "988975f1-fe92-43bb-8ded-f90642015782",
      "metadata": {
        "id": "988975f1-fe92-43bb-8ded-f90642015782"
      },
      "outputs": [],
      "source": []
    }
  ],
  "metadata": {
    "kernelspec": {
      "display_name": "Python 3 (ipykernel)",
      "language": "python",
      "name": "python3"
    },
    "language_info": {
      "codemirror_mode": {
        "name": "ipython",
        "version": 3
      },
      "file_extension": ".py",
      "mimetype": "text/x-python",
      "name": "python",
      "nbconvert_exporter": "python",
      "pygments_lexer": "ipython3",
      "version": "3.11.7"
    },
    "colab": {
      "provenance": []
    }
  },
  "nbformat": 4,
  "nbformat_minor": 5
}